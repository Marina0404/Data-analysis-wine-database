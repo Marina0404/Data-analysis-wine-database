{
 "cells": [
  {
   "cell_type": "markdown",
   "metadata": {},
   "source": [
    "### Зачет. Тема 4 "
   ]
  },
  {
   "cell_type": "markdown",
   "metadata": {},
   "source": [
    "***Загружаем все необходимые библиотеки***"
   ]
  },
  {
   "cell_type": "code",
   "execution_count": 1,
   "metadata": {},
   "outputs": [],
   "source": [
    "# Подключаем все необходимые библиотеки\n",
    "import pandas as pd\n",
    "import numpy as np\n",
    "import matplotlib.pyplot as plt\n",
    "import seaborn as sns\n",
    "import matplotlib.pyplot as plt"
   ]
  },
  {
   "cell_type": "code",
   "execution_count": 2,
   "metadata": {},
   "outputs": [],
   "source": [
    "# Применяем магическую функцию для отображения графиков\n",
    "%matplotlib inline "
   ]
  },
  {
   "cell_type": "code",
   "execution_count": 3,
   "metadata": {},
   "outputs": [
    {
     "data": {
      "text/html": [
       "<div>\n",
       "<style scoped>\n",
       "    .dataframe tbody tr th:only-of-type {\n",
       "        vertical-align: middle;\n",
       "    }\n",
       "\n",
       "    .dataframe tbody tr th {\n",
       "        vertical-align: top;\n",
       "    }\n",
       "\n",
       "    .dataframe thead th {\n",
       "        text-align: right;\n",
       "    }\n",
       "</style>\n",
       "<table border=\"1\" class=\"dataframe\">\n",
       "  <thead>\n",
       "    <tr style=\"text-align: right;\">\n",
       "      <th></th>\n",
       "      <th>country</th>\n",
       "      <th>description</th>\n",
       "      <th>designation</th>\n",
       "      <th>points</th>\n",
       "      <th>price</th>\n",
       "      <th>province</th>\n",
       "      <th>region_1</th>\n",
       "      <th>region_2</th>\n",
       "      <th>variety</th>\n",
       "      <th>winery</th>\n",
       "    </tr>\n",
       "  </thead>\n",
       "  <tbody>\n",
       "    <tr>\n",
       "      <th>0</th>\n",
       "      <td>US</td>\n",
       "      <td>With a delicate, silky mouthfeel and bright ac...</td>\n",
       "      <td>NaN</td>\n",
       "      <td>86</td>\n",
       "      <td>23.0</td>\n",
       "      <td>California</td>\n",
       "      <td>Central Coast</td>\n",
       "      <td>Central Coast</td>\n",
       "      <td>Pinot Noir</td>\n",
       "      <td>MacMurray Ranch</td>\n",
       "    </tr>\n",
       "    <tr>\n",
       "      <th>1</th>\n",
       "      <td>Italy</td>\n",
       "      <td>D'Alceo is a drop dead gorgeous wine that ooze...</td>\n",
       "      <td>D'Alceo</td>\n",
       "      <td>96</td>\n",
       "      <td>275.0</td>\n",
       "      <td>Tuscany</td>\n",
       "      <td>Toscana</td>\n",
       "      <td>NaN</td>\n",
       "      <td>Red Blend</td>\n",
       "      <td>Castello dei Rampolla</td>\n",
       "    </tr>\n",
       "    <tr>\n",
       "      <th>2</th>\n",
       "      <td>France</td>\n",
       "      <td>The great dominance of Cabernet Sauvignon in t...</td>\n",
       "      <td>NaN</td>\n",
       "      <td>91</td>\n",
       "      <td>40.0</td>\n",
       "      <td>Bordeaux</td>\n",
       "      <td>Haut-Médoc</td>\n",
       "      <td>NaN</td>\n",
       "      <td>Bordeaux-style Red Blend</td>\n",
       "      <td>Château Bernadotte</td>\n",
       "    </tr>\n",
       "    <tr>\n",
       "      <th>3</th>\n",
       "      <td>Italy</td>\n",
       "      <td>The modest cherry, dark berry and black tea no...</td>\n",
       "      <td>NaN</td>\n",
       "      <td>81</td>\n",
       "      <td>15.0</td>\n",
       "      <td>Tuscany</td>\n",
       "      <td>Chianti Classico</td>\n",
       "      <td>NaN</td>\n",
       "      <td>Sangiovese</td>\n",
       "      <td>Valiano</td>\n",
       "    </tr>\n",
       "    <tr>\n",
       "      <th>4</th>\n",
       "      <td>US</td>\n",
       "      <td>Exceedingly light in color, scent and flavor, ...</td>\n",
       "      <td>NaN</td>\n",
       "      <td>83</td>\n",
       "      <td>25.0</td>\n",
       "      <td>Oregon</td>\n",
       "      <td>Rogue Valley</td>\n",
       "      <td>Southern Oregon</td>\n",
       "      <td>Pinot Noir</td>\n",
       "      <td>Deer Creek</td>\n",
       "    </tr>\n",
       "  </tbody>\n",
       "</table>\n",
       "</div>"
      ],
      "text/plain": [
       "  country                                        description designation  \\\n",
       "0      US  With a delicate, silky mouthfeel and bright ac...         NaN   \n",
       "1   Italy  D'Alceo is a drop dead gorgeous wine that ooze...     D'Alceo   \n",
       "2  France  The great dominance of Cabernet Sauvignon in t...         NaN   \n",
       "3   Italy  The modest cherry, dark berry and black tea no...         NaN   \n",
       "4      US  Exceedingly light in color, scent and flavor, ...         NaN   \n",
       "\n",
       "   points  price    province          region_1         region_2  \\\n",
       "0      86   23.0  California     Central Coast    Central Coast   \n",
       "1      96  275.0     Tuscany           Toscana              NaN   \n",
       "2      91   40.0    Bordeaux        Haut-Médoc              NaN   \n",
       "3      81   15.0     Tuscany  Chianti Classico              NaN   \n",
       "4      83   25.0      Oregon      Rogue Valley  Southern Oregon   \n",
       "\n",
       "                    variety                 winery  \n",
       "0                Pinot Noir        MacMurray Ranch  \n",
       "1                 Red Blend  Castello dei Rampolla  \n",
       "2  Bordeaux-style Red Blend     Château Bernadotte  \n",
       "3                Sangiovese                Valiano  \n",
       "4                Pinot Noir             Deer Creek  "
      ]
     },
     "execution_count": 3,
     "metadata": {},
     "output_type": "execute_result"
    }
   ],
   "source": [
    "data = pd.read_csv(\"../Big_Data/wine_reviews.csv\")\n",
    "data.head()"
   ]
  },
  {
   "cell_type": "markdown",
   "metadata": {},
   "source": [
    "***Выводим информацию о данных***"
   ]
  },
  {
   "cell_type": "code",
   "execution_count": 4,
   "metadata": {},
   "outputs": [
    {
     "name": "stdout",
     "output_type": "stream",
     "text": [
      "<class 'pandas.core.frame.DataFrame'>\n",
      "RangeIndex: 20000 entries, 0 to 19999\n",
      "Data columns (total 10 columns):\n",
      " #   Column       Non-Null Count  Dtype  \n",
      "---  ------       --------------  -----  \n",
      " 0   country      20000 non-null  object \n",
      " 1   description  20000 non-null  object \n",
      " 2   designation  13999 non-null  object \n",
      " 3   points       20000 non-null  int64  \n",
      " 4   price        18198 non-null  float64\n",
      " 5   province     20000 non-null  object \n",
      " 6   region_1     16543 non-null  object \n",
      " 7   region_2     8058 non-null   object \n",
      " 8   variety      20000 non-null  object \n",
      " 9   winery       20000 non-null  object \n",
      "dtypes: float64(1), int64(1), object(8)\n",
      "memory usage: 1.5+ MB\n"
     ]
    }
   ],
   "source": [
    "# Проверяем общую информацию о данных\n",
    "data.info()"
   ]
  },
  {
   "cell_type": "code",
   "execution_count": 5,
   "metadata": {},
   "outputs": [
    {
     "data": {
      "text/plain": [
       "country            0\n",
       "description        0\n",
       "designation     6001\n",
       "points             0\n",
       "price           1802\n",
       "province           0\n",
       "region_1        3457\n",
       "region_2       11942\n",
       "variety            0\n",
       "winery             0\n",
       "dtype: int64"
      ]
     },
     "execution_count": 5,
     "metadata": {},
     "output_type": "execute_result"
    }
   ],
   "source": [
    "data.isna().sum(axis=0) # Считаем количество пропущенных значений в каждом столбце"
   ]
  },
  {
   "cell_type": "markdown",
   "metadata": {},
   "source": [
    "**Из приведенной выше таблицы мы можем сделать следующие выводы:**\n",
    "\n",
    "- Набор данных включает в себя 20 000 строк и 12 столбцов;\n",
    "- Столбец \"points\" содержит числовые метки, столбец \"price\" содержит занчения \"float\", а остальные 8 столбцов являются объектами;\n",
    "- 2 признака являются числовыми, остальные 8 являются категориальными;\n",
    "- Значения отсутствуют в столбцах 'designation', 'price', 'region_1' и 'region_2'; \n",
    "- Количество отсутствующих значений по каждому столбцу видно из последней таблицы;"
   ]
  },
  {
   "cell_type": "code",
   "execution_count": 6,
   "metadata": {},
   "outputs": [
    {
     "data": {
      "text/html": [
       "<div>\n",
       "<style scoped>\n",
       "    .dataframe tbody tr th:only-of-type {\n",
       "        vertical-align: middle;\n",
       "    }\n",
       "\n",
       "    .dataframe tbody tr th {\n",
       "        vertical-align: top;\n",
       "    }\n",
       "\n",
       "    .dataframe thead th {\n",
       "        text-align: right;\n",
       "    }\n",
       "</style>\n",
       "<table border=\"1\" class=\"dataframe\">\n",
       "  <thead>\n",
       "    <tr style=\"text-align: right;\">\n",
       "      <th></th>\n",
       "      <th>points</th>\n",
       "      <th>price</th>\n",
       "    </tr>\n",
       "  </thead>\n",
       "  <tbody>\n",
       "    <tr>\n",
       "      <th>count</th>\n",
       "      <td>20000.000000</td>\n",
       "      <td>18198.000000</td>\n",
       "    </tr>\n",
       "    <tr>\n",
       "      <th>mean</th>\n",
       "      <td>87.898700</td>\n",
       "      <td>33.206891</td>\n",
       "    </tr>\n",
       "    <tr>\n",
       "      <th>std</th>\n",
       "      <td>3.243049</td>\n",
       "      <td>39.716685</td>\n",
       "    </tr>\n",
       "    <tr>\n",
       "      <th>min</th>\n",
       "      <td>80.000000</td>\n",
       "      <td>5.000000</td>\n",
       "    </tr>\n",
       "    <tr>\n",
       "      <th>25%</th>\n",
       "      <td>86.000000</td>\n",
       "      <td>16.000000</td>\n",
       "    </tr>\n",
       "    <tr>\n",
       "      <th>50%</th>\n",
       "      <td>88.000000</td>\n",
       "      <td>24.000000</td>\n",
       "    </tr>\n",
       "    <tr>\n",
       "      <th>75%</th>\n",
       "      <td>90.000000</td>\n",
       "      <td>40.000000</td>\n",
       "    </tr>\n",
       "    <tr>\n",
       "      <th>max</th>\n",
       "      <td>100.000000</td>\n",
       "      <td>2300.000000</td>\n",
       "    </tr>\n",
       "  </tbody>\n",
       "</table>\n",
       "</div>"
      ],
      "text/plain": [
       "             points         price\n",
       "count  20000.000000  18198.000000\n",
       "mean      87.898700     33.206891\n",
       "std        3.243049     39.716685\n",
       "min       80.000000      5.000000\n",
       "25%       86.000000     16.000000\n",
       "50%       88.000000     24.000000\n",
       "75%       90.000000     40.000000\n",
       "max      100.000000   2300.000000"
      ]
     },
     "execution_count": 6,
     "metadata": {},
     "output_type": "execute_result"
    }
   ],
   "source": [
    "# Смотрим статистическую информацию по объектам int и float\n",
    "data.describe()"
   ]
  },
  {
   "cell_type": "code",
   "execution_count": 7,
   "metadata": {},
   "outputs": [
    {
     "data": {
      "text/html": [
       "<div>\n",
       "<style scoped>\n",
       "    .dataframe tbody tr th:only-of-type {\n",
       "        vertical-align: middle;\n",
       "    }\n",
       "\n",
       "    .dataframe tbody tr th {\n",
       "        vertical-align: top;\n",
       "    }\n",
       "\n",
       "    .dataframe thead th {\n",
       "        text-align: right;\n",
       "    }\n",
       "</style>\n",
       "<table border=\"1\" class=\"dataframe\">\n",
       "  <thead>\n",
       "    <tr style=\"text-align: right;\">\n",
       "      <th></th>\n",
       "      <th>country</th>\n",
       "      <th>description</th>\n",
       "      <th>designation</th>\n",
       "      <th>province</th>\n",
       "      <th>region_1</th>\n",
       "      <th>region_2</th>\n",
       "      <th>variety</th>\n",
       "      <th>winery</th>\n",
       "    </tr>\n",
       "  </thead>\n",
       "  <tbody>\n",
       "    <tr>\n",
       "      <th>count</th>\n",
       "      <td>20000</td>\n",
       "      <td>20000</td>\n",
       "      <td>13999</td>\n",
       "      <td>20000</td>\n",
       "      <td>16543</td>\n",
       "      <td>8058</td>\n",
       "      <td>20000</td>\n",
       "      <td>20000</td>\n",
       "    </tr>\n",
       "    <tr>\n",
       "      <th>unique</th>\n",
       "      <td>38</td>\n",
       "      <td>18880</td>\n",
       "      <td>8879</td>\n",
       "      <td>314</td>\n",
       "      <td>877</td>\n",
       "      <td>18</td>\n",
       "      <td>420</td>\n",
       "      <td>7454</td>\n",
       "    </tr>\n",
       "    <tr>\n",
       "      <th>top</th>\n",
       "      <td>US</td>\n",
       "      <td>A bold, assertive Pinot Noir, with a lattice o...</td>\n",
       "      <td>Reserve</td>\n",
       "      <td>California</td>\n",
       "      <td>Napa Valley</td>\n",
       "      <td>Central Coast</td>\n",
       "      <td>Pinot Noir</td>\n",
       "      <td>Williams Selyem</td>\n",
       "    </tr>\n",
       "    <tr>\n",
       "      <th>freq</th>\n",
       "      <td>8247</td>\n",
       "      <td>3</td>\n",
       "      <td>340</td>\n",
       "      <td>5901</td>\n",
       "      <td>796</td>\n",
       "      <td>1732</td>\n",
       "      <td>1945</td>\n",
       "      <td>55</td>\n",
       "    </tr>\n",
       "  </tbody>\n",
       "</table>\n",
       "</div>"
      ],
      "text/plain": [
       "       country                                        description designation  \\\n",
       "count    20000                                              20000       13999   \n",
       "unique      38                                              18880        8879   \n",
       "top         US  A bold, assertive Pinot Noir, with a lattice o...     Reserve   \n",
       "freq      8247                                                  3         340   \n",
       "\n",
       "          province     region_1       region_2     variety           winery  \n",
       "count        20000        16543           8058       20000            20000  \n",
       "unique         314          877             18         420             7454  \n",
       "top     California  Napa Valley  Central Coast  Pinot Noir  Williams Selyem  \n",
       "freq          5901          796           1732        1945               55  "
      ]
     },
     "execution_count": 7,
     "metadata": {},
     "output_type": "execute_result"
    }
   ],
   "source": [
    "data.describe(include=[object])  # Смотрим статистическию информацию по объектам object"
   ]
  },
  {
   "cell_type": "markdown",
   "metadata": {},
   "source": [
    "**По этой таблице мы можем определить наиболее чато встречающиеся обьекты, определить количество уникальных значений в каждом столбце типа object**"
   ]
  },
  {
   "cell_type": "markdown",
   "metadata": {},
   "source": [
    "***Проверяем df на дубликаты***"
   ]
  },
  {
   "cell_type": "code",
   "execution_count": 8,
   "metadata": {},
   "outputs": [
    {
     "data": {
      "text/plain": [
       "1119"
      ]
     },
     "execution_count": 8,
     "metadata": {},
     "output_type": "execute_result"
    }
   ],
   "source": [
    "data.duplicated().sum() # Считаем количество дубликатов"
   ]
  },
  {
   "cell_type": "markdown",
   "metadata": {},
   "source": [
    "***Удаляем дубликаты строк***"
   ]
  },
  {
   "cell_type": "code",
   "execution_count": 9,
   "metadata": {},
   "outputs": [
    {
     "name": "stdout",
     "output_type": "stream",
     "text": [
      "Размерность до удаления:  (20000, 10)\n",
      "Размерность после удаления:  (18881, 10)\n"
     ]
    }
   ],
   "source": [
    "print ('Размерность до удаления: ', data.shape) # Выводим размерность ДатаФрейма до удаления строк\n",
    "data.drop_duplicates(inplace=True, ignore_index=True)\n",
    "print ('Размерность после удаления: ', data.shape) # Выводим размерность ДатаФрейма после удаления строк"
   ]
  },
  {
   "cell_type": "markdown",
   "metadata": {},
   "source": [
    "**Видим, что все дубликаты удалилсь верно**"
   ]
  },
  {
   "cell_type": "markdown",
   "metadata": {},
   "source": [
    "***Визуализируем все пропуски для наглялности***"
   ]
  },
  {
   "cell_type": "code",
   "execution_count": 10,
   "metadata": {},
   "outputs": [
    {
     "data": {
      "text/plain": [
       "<AxesSubplot:>"
      ]
     },
     "execution_count": 10,
     "metadata": {},
     "output_type": "execute_result"
    },
    {
     "data": {
      "image/png": "[encoded data removed]",
      "text/plain": [
       "<Figure size 432x288 with 2 Axes>"
      ]
     },
     "metadata": {
      "needs_background": "light"
     },
     "output_type": "display_data"
    }
   ],
   "source": [
    "cols = data.columns # первые 30 колонок\n",
    "# определяем цвета \n",
    "# желтый - пропущенные данные, синий - не пропущенные\n",
    "colours = ['#000099', '#ffff00'] \n",
    "sns.heatmap(data[cols].isnull(), cmap=sns.color_palette(colours))"
   ]
  },
  {
   "cell_type": "markdown",
   "metadata": {},
   "source": [
    "***Визуализируем пропуски в % по каждому столбцу***"
   ]
  },
  {
   "cell_type": "code",
   "execution_count": 11,
   "metadata": {},
   "outputs": [
    {
     "name": "stdout",
     "output_type": "stream",
     "text": [
      "country - 0%\n",
      "description - 0%\n",
      "designation - 30%\n",
      "points - 0%\n",
      "price - 9%\n",
      "province - 0%\n",
      "region_1 - 17%\n",
      "region_2 - 60%\n",
      "variety - 0%\n",
      "winery - 0%\n"
     ]
    }
   ],
   "source": [
    "for col in data.columns:\n",
    "    pct_missing = np.mean(data[col].isnull())\n",
    "    print('{} - {}%'.format(col, round(pct_missing*100)))"
   ]
  },
  {
   "cell_type": "markdown",
   "metadata": {},
   "source": [
    "**Анализируем пропуски в столбцах:**\n",
    "- 60 % - region_2 (винодельческий регион, провинция)\n",
    "- 30 % - designation (Виноградник, где выращивается виноград для вина)\n",
    "- 17 % - region_1 (винодельческий регион, провинция, более укрупненно, чем region_2)\n",
    "\n",
    "**Все эти колонки заполнить не предоставляется возможным и они в нашем анализе не играют большой роли, а тем более у нас есть колонка province (обощающая информацию о том, где производится вино) и заполненна она без пробелов.**\n",
    "\n",
    "**Поэтому смело их удаляем**"
   ]
  },
  {
   "cell_type": "code",
   "execution_count": 12,
   "metadata": {},
   "outputs": [
    {
     "data": {
      "text/html": [
       "<div>\n",
       "<style scoped>\n",
       "    .dataframe tbody tr th:only-of-type {\n",
       "        vertical-align: middle;\n",
       "    }\n",
       "\n",
       "    .dataframe tbody tr th {\n",
       "        vertical-align: top;\n",
       "    }\n",
       "\n",
       "    .dataframe thead th {\n",
       "        text-align: right;\n",
       "    }\n",
       "</style>\n",
       "<table border=\"1\" class=\"dataframe\">\n",
       "  <thead>\n",
       "    <tr style=\"text-align: right;\">\n",
       "      <th></th>\n",
       "      <th>country</th>\n",
       "      <th>description</th>\n",
       "      <th>points</th>\n",
       "      <th>price</th>\n",
       "      <th>province</th>\n",
       "      <th>variety</th>\n",
       "      <th>winery</th>\n",
       "    </tr>\n",
       "  </thead>\n",
       "  <tbody>\n",
       "    <tr>\n",
       "      <th>0</th>\n",
       "      <td>US</td>\n",
       "      <td>With a delicate, silky mouthfeel and bright ac...</td>\n",
       "      <td>86</td>\n",
       "      <td>23.0</td>\n",
       "      <td>California</td>\n",
       "      <td>Pinot Noir</td>\n",
       "      <td>MacMurray Ranch</td>\n",
       "    </tr>\n",
       "    <tr>\n",
       "      <th>1</th>\n",
       "      <td>Italy</td>\n",
       "      <td>D'Alceo is a drop dead gorgeous wine that ooze...</td>\n",
       "      <td>96</td>\n",
       "      <td>275.0</td>\n",
       "      <td>Tuscany</td>\n",
       "      <td>Red Blend</td>\n",
       "      <td>Castello dei Rampolla</td>\n",
       "    </tr>\n",
       "    <tr>\n",
       "      <th>2</th>\n",
       "      <td>France</td>\n",
       "      <td>The great dominance of Cabernet Sauvignon in t...</td>\n",
       "      <td>91</td>\n",
       "      <td>40.0</td>\n",
       "      <td>Bordeaux</td>\n",
       "      <td>Bordeaux-style Red Blend</td>\n",
       "      <td>Château Bernadotte</td>\n",
       "    </tr>\n",
       "    <tr>\n",
       "      <th>3</th>\n",
       "      <td>Italy</td>\n",
       "      <td>The modest cherry, dark berry and black tea no...</td>\n",
       "      <td>81</td>\n",
       "      <td>15.0</td>\n",
       "      <td>Tuscany</td>\n",
       "      <td>Sangiovese</td>\n",
       "      <td>Valiano</td>\n",
       "    </tr>\n",
       "    <tr>\n",
       "      <th>4</th>\n",
       "      <td>US</td>\n",
       "      <td>Exceedingly light in color, scent and flavor, ...</td>\n",
       "      <td>83</td>\n",
       "      <td>25.0</td>\n",
       "      <td>Oregon</td>\n",
       "      <td>Pinot Noir</td>\n",
       "      <td>Deer Creek</td>\n",
       "    </tr>\n",
       "    <tr>\n",
       "      <th>...</th>\n",
       "      <td>...</td>\n",
       "      <td>...</td>\n",
       "      <td>...</td>\n",
       "      <td>...</td>\n",
       "      <td>...</td>\n",
       "      <td>...</td>\n",
       "      <td>...</td>\n",
       "    </tr>\n",
       "    <tr>\n",
       "      <th>18876</th>\n",
       "      <td>France</td>\n",
       "      <td>Firm wine, with tannins to match the chunky st...</td>\n",
       "      <td>88</td>\n",
       "      <td>12.0</td>\n",
       "      <td>Southwest France</td>\n",
       "      <td>Mansois</td>\n",
       "      <td>Lionel Osmin &amp; Cie</td>\n",
       "    </tr>\n",
       "    <tr>\n",
       "      <th>18877</th>\n",
       "      <td>US</td>\n",
       "      <td>The vineyard is on the Napa side of Carneros. ...</td>\n",
       "      <td>89</td>\n",
       "      <td>50.0</td>\n",
       "      <td>California</td>\n",
       "      <td>Pinot Noir</td>\n",
       "      <td>Bouchaine</td>\n",
       "    </tr>\n",
       "    <tr>\n",
       "      <th>18878</th>\n",
       "      <td>Italy</td>\n",
       "      <td>Lighea is a terrific wine and an excellent pai...</td>\n",
       "      <td>87</td>\n",
       "      <td>20.0</td>\n",
       "      <td>Sicily &amp; Sardinia</td>\n",
       "      <td>Zibibbo</td>\n",
       "      <td>Donnafugata</td>\n",
       "    </tr>\n",
       "    <tr>\n",
       "      <th>18879</th>\n",
       "      <td>Italy</td>\n",
       "      <td>Organically farmed Cannonau grapes deliver sma...</td>\n",
       "      <td>87</td>\n",
       "      <td>NaN</td>\n",
       "      <td>Sicily &amp; Sardinia</td>\n",
       "      <td>Cannonau</td>\n",
       "      <td>Meloni</td>\n",
       "    </tr>\n",
       "    <tr>\n",
       "      <th>18880</th>\n",
       "      <td>US</td>\n",
       "      <td>Grown on the Sonoma side of the appellation, i...</td>\n",
       "      <td>92</td>\n",
       "      <td>35.0</td>\n",
       "      <td>California</td>\n",
       "      <td>Syrah</td>\n",
       "      <td>Saintsbury</td>\n",
       "    </tr>\n",
       "  </tbody>\n",
       "</table>\n",
       "<p>18881 rows × 7 columns</p>\n",
       "</div>"
      ],
      "text/plain": [
       "      country                                        description  points  \\\n",
       "0          US  With a delicate, silky mouthfeel and bright ac...      86   \n",
       "1       Italy  D'Alceo is a drop dead gorgeous wine that ooze...      96   \n",
       "2      France  The great dominance of Cabernet Sauvignon in t...      91   \n",
       "3       Italy  The modest cherry, dark berry and black tea no...      81   \n",
       "4          US  Exceedingly light in color, scent and flavor, ...      83   \n",
       "...       ...                                                ...     ...   \n",
       "18876  France  Firm wine, with tannins to match the chunky st...      88   \n",
       "18877      US  The vineyard is on the Napa side of Carneros. ...      89   \n",
       "18878   Italy  Lighea is a terrific wine and an excellent pai...      87   \n",
       "18879   Italy  Organically farmed Cannonau grapes deliver sma...      87   \n",
       "18880      US  Grown on the Sonoma side of the appellation, i...      92   \n",
       "\n",
       "       price           province                   variety  \\\n",
       "0       23.0         California                Pinot Noir   \n",
       "1      275.0            Tuscany                 Red Blend   \n",
       "2       40.0           Bordeaux  Bordeaux-style Red Blend   \n",
       "3       15.0            Tuscany                Sangiovese   \n",
       "4       25.0             Oregon                Pinot Noir   \n",
       "...      ...                ...                       ...   \n",
       "18876   12.0   Southwest France                   Mansois   \n",
       "18877   50.0         California                Pinot Noir   \n",
       "18878   20.0  Sicily & Sardinia                   Zibibbo   \n",
       "18879    NaN  Sicily & Sardinia                  Cannonau   \n",
       "18880   35.0         California                     Syrah   \n",
       "\n",
       "                      winery  \n",
       "0            MacMurray Ranch  \n",
       "1      Castello dei Rampolla  \n",
       "2         Château Bernadotte  \n",
       "3                    Valiano  \n",
       "4                 Deer Creek  \n",
       "...                      ...  \n",
       "18876     Lionel Osmin & Cie  \n",
       "18877              Bouchaine  \n",
       "18878            Donnafugata  \n",
       "18879                 Meloni  \n",
       "18880             Saintsbury  \n",
       "\n",
       "[18881 rows x 7 columns]"
      ]
     },
     "execution_count": 12,
     "metadata": {},
     "output_type": "execute_result"
    }
   ],
   "source": [
    "cols_to_drop = ['region_2', 'region_1', 'designation']\n",
    "data_new = data.drop(cols_to_drop, axis=1)\n",
    "data_new"
   ]
  },
  {
   "cell_type": "markdown",
   "metadata": {},
   "source": [
    "**Также мы видим, пропуски есть в столбце price, их не очень много, расчитаем сколько их**"
   ]
  },
  {
   "cell_type": "code",
   "execution_count": 13,
   "metadata": {},
   "outputs": [
    {
     "name": "stdout",
     "output_type": "stream",
     "text": [
      "Пропущенные записи: 1688\n",
      "Всего записей: 18881\n",
      "Оставшиеся записи составляют: 91.06%\n"
     ]
    }
   ],
   "source": [
    "# Расчитаем % оставшихся записей, если пропущенные цены удалим:\n",
    "total_records = len(data)\n",
    "missing_prices = data_new['price'].isnull().sum()\n",
    "missing_ratio = 100 - ((missing_prices / total_records) * 100)\n",
    "print('Пропущенные записи: {}'.format(missing_prices)+ '\\n' +\n",
    "      'Всего записей: {}'.format(total_records) + '\\n' + \n",
    "      'Оставшиеся записи составляют: {:.2f}%'.format(missing_ratio))"
   ]
  },
  {
   "cell_type": "markdown",
   "metadata": {},
   "source": [
    "**Заполним пропущенные price средним значением по points и country**"
   ]
  },
  {
   "cell_type": "code",
   "execution_count": 14,
   "metadata": {},
   "outputs": [],
   "source": [
    "data_new['price'] = data_new.groupby(['points','country'])['price'].apply(lambda x: x.fillna(x.median()))\n"
   ]
  },
  {
   "cell_type": "code",
   "execution_count": 15,
   "metadata": {},
   "outputs": [
    {
     "data": {
      "text/html": [
       "<div>\n",
       "<style scoped>\n",
       "    .dataframe tbody tr th:only-of-type {\n",
       "        vertical-align: middle;\n",
       "    }\n",
       "\n",
       "    .dataframe tbody tr th {\n",
       "        vertical-align: top;\n",
       "    }\n",
       "\n",
       "    .dataframe thead th {\n",
       "        text-align: right;\n",
       "    }\n",
       "</style>\n",
       "<table border=\"1\" class=\"dataframe\">\n",
       "  <thead>\n",
       "    <tr style=\"text-align: right;\">\n",
       "      <th></th>\n",
       "      <th>country</th>\n",
       "      <th>description</th>\n",
       "      <th>points</th>\n",
       "      <th>price</th>\n",
       "      <th>province</th>\n",
       "      <th>variety</th>\n",
       "      <th>winery</th>\n",
       "    </tr>\n",
       "  </thead>\n",
       "  <tbody>\n",
       "    <tr>\n",
       "      <th>9547</th>\n",
       "      <td>Portugal</td>\n",
       "      <td>The least interesting wine in the normally exc...</td>\n",
       "      <td>80</td>\n",
       "      <td>NaN</td>\n",
       "      <td>Alentejano</td>\n",
       "      <td>Portuguese Red</td>\n",
       "      <td>Cartuxa</td>\n",
       "    </tr>\n",
       "    <tr>\n",
       "      <th>14885</th>\n",
       "      <td>Egypt</td>\n",
       "      <td>This fresh, approachable Chenin starts with br...</td>\n",
       "      <td>84</td>\n",
       "      <td>NaN</td>\n",
       "      <td>Egypt</td>\n",
       "      <td>Chenin Blanc</td>\n",
       "      <td>Sahara Vineyards</td>\n",
       "    </tr>\n",
       "  </tbody>\n",
       "</table>\n",
       "</div>"
      ],
      "text/plain": [
       "        country                                        description  points  \\\n",
       "9547   Portugal  The least interesting wine in the normally exc...      80   \n",
       "14885     Egypt  This fresh, approachable Chenin starts with br...      84   \n",
       "\n",
       "       price    province         variety            winery  \n",
       "9547     NaN  Alentejano  Portuguese Red           Cartuxa  \n",
       "14885    NaN       Egypt    Chenin Blanc  Sahara Vineyards  "
      ]
     },
     "execution_count": 15,
     "metadata": {},
     "output_type": "execute_result"
    }
   ],
   "source": [
    "data_new[data_new.price.isnull()]  # Проверяем не осталось ли нулевых строк с ценой"
   ]
  },
  {
   "cell_type": "markdown",
   "metadata": {},
   "source": [
    "**Две строки у нас не удалились, может быть по этим позициям не возможно расчитать среднее и медиану**"
   ]
  },
  {
   "cell_type": "code",
   "execution_count": 16,
   "metadata": {},
   "outputs": [],
   "source": [
    "# Уалим эти две строки, скорее всего в них есть какие-то ошибки\n",
    "data_new = data_new.dropna(how=\"any\", subset=[\"price\"])"
   ]
  },
  {
   "cell_type": "code",
   "execution_count": 17,
   "metadata": {},
   "outputs": [
    {
     "data": {
      "text/html": [
       "<div>\n",
       "<style scoped>\n",
       "    .dataframe tbody tr th:only-of-type {\n",
       "        vertical-align: middle;\n",
       "    }\n",
       "\n",
       "    .dataframe tbody tr th {\n",
       "        vertical-align: top;\n",
       "    }\n",
       "\n",
       "    .dataframe thead th {\n",
       "        text-align: right;\n",
       "    }\n",
       "</style>\n",
       "<table border=\"1\" class=\"dataframe\">\n",
       "  <thead>\n",
       "    <tr style=\"text-align: right;\">\n",
       "      <th></th>\n",
       "      <th>country</th>\n",
       "      <th>description</th>\n",
       "      <th>points</th>\n",
       "      <th>price</th>\n",
       "      <th>province</th>\n",
       "      <th>variety</th>\n",
       "      <th>winery</th>\n",
       "    </tr>\n",
       "  </thead>\n",
       "  <tbody>\n",
       "  </tbody>\n",
       "</table>\n",
       "</div>"
      ],
      "text/plain": [
       "Empty DataFrame\n",
       "Columns: [country, description, points, price, province, variety, winery]\n",
       "Index: []"
      ]
     },
     "execution_count": 17,
     "metadata": {},
     "output_type": "execute_result"
    }
   ],
   "source": [
    "data_new[data_new.price.isnull()]  # Проверяем не осталось ли нулевых строк с ценой"
   ]
  },
  {
   "cell_type": "markdown",
   "metadata": {},
   "source": [
    "**Соберем некоторые данные для анализа**"
   ]
  },
  {
   "cell_type": "code",
   "execution_count": 18,
   "metadata": {},
   "outputs": [
    {
     "name": "stdout",
     "output_type": "stream",
     "text": [
      "Total amount of unique countries: 37\n",
      "['US' 'Italy' 'France' 'Austria' 'Chile' 'Spain' 'Australia'\n",
      " 'South Africa' 'New Zealand' 'Portugal' 'Argentina' 'Germany' 'Greece'\n",
      " 'Canada' 'Israel' 'Romania' 'Croatia' 'Hungary' 'Mexico' 'Slovenia'\n",
      " 'Lebanon' 'China' 'Bulgaria' 'Cyprus' 'Uruguay' 'Switzerland' 'Turkey'\n",
      " 'Georgia' 'Moldova' 'Montenegro' 'Serbia' 'South Korea' 'Ukraine'\n",
      " 'Bosnia and Herzegovina' 'Brazil' 'US-France' 'Luxembourg']\n"
     ]
    }
   ],
   "source": [
    "# Выведем все уникальные названия стран:\n",
    "unique_countries = data_new[\"country\"].unique()\n",
    "print(\"Total amount of unique countries: {}\".format(len(unique_countries)))\n",
    "print(unique_countries)"
   ]
  },
  {
   "cell_type": "code",
   "execution_count": 19,
   "metadata": {},
   "outputs": [
    {
     "data": {
      "text/plain": [
       "country\n",
       "Argentina                     White Blend\n",
       "Australia                       Zinfandel\n",
       "Austria                          Zweigelt\n",
       "Bosnia and Herzegovina            Blatina\n",
       "Brazil                    Sparkling Blend\n",
       "Bulgaria                         Traminer\n",
       "Canada                           Viognier\n",
       "Chile                         White Blend\n",
       "China                          Chardonnay\n",
       "Croatia                          Zlahtina\n",
       "Name: variety, dtype: object"
      ]
     },
     "execution_count": 19,
     "metadata": {},
     "output_type": "execute_result"
    }
   ],
   "source": [
    "# Группируем страну по наиболее распространенному сорту сорту вина (первая выводим первые 10 значений)\n",
    "data_new.groupby(\"country\").variety.max().head(10)\n"
   ]
  },
  {
   "cell_type": "code",
   "execution_count": 20,
   "metadata": {},
   "outputs": [
    {
     "data": {
      "text/html": [
       "<div>\n",
       "<style scoped>\n",
       "    .dataframe tbody tr th:only-of-type {\n",
       "        vertical-align: middle;\n",
       "    }\n",
       "\n",
       "    .dataframe tbody tr th {\n",
       "        vertical-align: top;\n",
       "    }\n",
       "\n",
       "    .dataframe thead th {\n",
       "        text-align: right;\n",
       "    }\n",
       "</style>\n",
       "<table border=\"1\" class=\"dataframe\">\n",
       "  <thead>\n",
       "    <tr style=\"text-align: right;\">\n",
       "      <th></th>\n",
       "      <th>len</th>\n",
       "      <th>min</th>\n",
       "      <th>max</th>\n",
       "    </tr>\n",
       "    <tr>\n",
       "      <th>country</th>\n",
       "      <th></th>\n",
       "      <th></th>\n",
       "      <th></th>\n",
       "    </tr>\n",
       "  </thead>\n",
       "  <tbody>\n",
       "    <tr>\n",
       "      <th>Argentina</th>\n",
       "      <td>685</td>\n",
       "      <td>80</td>\n",
       "      <td>97</td>\n",
       "    </tr>\n",
       "    <tr>\n",
       "      <th>Australia</th>\n",
       "      <td>597</td>\n",
       "      <td>80</td>\n",
       "      <td>98</td>\n",
       "    </tr>\n",
       "    <tr>\n",
       "      <th>Austria</th>\n",
       "      <td>401</td>\n",
       "      <td>82</td>\n",
       "      <td>96</td>\n",
       "    </tr>\n",
       "    <tr>\n",
       "      <th>Bosnia and Herzegovina</th>\n",
       "      <td>1</td>\n",
       "      <td>88</td>\n",
       "      <td>88</td>\n",
       "    </tr>\n",
       "    <tr>\n",
       "      <th>Brazil</th>\n",
       "      <td>3</td>\n",
       "      <td>82</td>\n",
       "      <td>85</td>\n",
       "    </tr>\n",
       "    <tr>\n",
       "      <th>Bulgaria</th>\n",
       "      <td>9</td>\n",
       "      <td>80</td>\n",
       "      <td>89</td>\n",
       "    </tr>\n",
       "    <tr>\n",
       "      <th>Canada</th>\n",
       "      <td>24</td>\n",
       "      <td>82</td>\n",
       "      <td>92</td>\n",
       "    </tr>\n",
       "    <tr>\n",
       "      <th>Chile</th>\n",
       "      <td>744</td>\n",
       "      <td>80</td>\n",
       "      <td>93</td>\n",
       "    </tr>\n",
       "    <tr>\n",
       "      <th>China</th>\n",
       "      <td>1</td>\n",
       "      <td>82</td>\n",
       "      <td>82</td>\n",
       "    </tr>\n",
       "    <tr>\n",
       "      <th>Croatia</th>\n",
       "      <td>20</td>\n",
       "      <td>82</td>\n",
       "      <td>90</td>\n",
       "    </tr>\n",
       "    <tr>\n",
       "      <th>Cyprus</th>\n",
       "      <td>4</td>\n",
       "      <td>87</td>\n",
       "      <td>89</td>\n",
       "    </tr>\n",
       "    <tr>\n",
       "      <th>France</th>\n",
       "      <td>2601</td>\n",
       "      <td>80</td>\n",
       "      <td>100</td>\n",
       "    </tr>\n",
       "    <tr>\n",
       "      <th>Georgia</th>\n",
       "      <td>6</td>\n",
       "      <td>81</td>\n",
       "      <td>90</td>\n",
       "    </tr>\n",
       "    <tr>\n",
       "      <th>Germany</th>\n",
       "      <td>337</td>\n",
       "      <td>82</td>\n",
       "      <td>97</td>\n",
       "    </tr>\n",
       "    <tr>\n",
       "      <th>Greece</th>\n",
       "      <td>108</td>\n",
       "      <td>80</td>\n",
       "      <td>90</td>\n",
       "    </tr>\n",
       "    <tr>\n",
       "      <th>Hungary</th>\n",
       "      <td>33</td>\n",
       "      <td>80</td>\n",
       "      <td>96</td>\n",
       "    </tr>\n",
       "    <tr>\n",
       "      <th>Israel</th>\n",
       "      <td>80</td>\n",
       "      <td>81</td>\n",
       "      <td>92</td>\n",
       "    </tr>\n",
       "    <tr>\n",
       "      <th>Italy</th>\n",
       "      <td>2912</td>\n",
       "      <td>80</td>\n",
       "      <td>100</td>\n",
       "    </tr>\n",
       "    <tr>\n",
       "      <th>Lebanon</th>\n",
       "      <td>4</td>\n",
       "      <td>82</td>\n",
       "      <td>91</td>\n",
       "    </tr>\n",
       "    <tr>\n",
       "      <th>Luxembourg</th>\n",
       "      <td>1</td>\n",
       "      <td>86</td>\n",
       "      <td>86</td>\n",
       "    </tr>\n",
       "    <tr>\n",
       "      <th>Mexico</th>\n",
       "      <td>13</td>\n",
       "      <td>80</td>\n",
       "      <td>89</td>\n",
       "    </tr>\n",
       "    <tr>\n",
       "      <th>Moldova</th>\n",
       "      <td>14</td>\n",
       "      <td>81</td>\n",
       "      <td>88</td>\n",
       "    </tr>\n",
       "    <tr>\n",
       "      <th>Montenegro</th>\n",
       "      <td>1</td>\n",
       "      <td>82</td>\n",
       "      <td>82</td>\n",
       "    </tr>\n",
       "    <tr>\n",
       "      <th>New Zealand</th>\n",
       "      <td>412</td>\n",
       "      <td>80</td>\n",
       "      <td>94</td>\n",
       "    </tr>\n",
       "    <tr>\n",
       "      <th>Portugal</th>\n",
       "      <td>705</td>\n",
       "      <td>81</td>\n",
       "      <td>99</td>\n",
       "    </tr>\n",
       "    <tr>\n",
       "      <th>Romania</th>\n",
       "      <td>18</td>\n",
       "      <td>80</td>\n",
       "      <td>87</td>\n",
       "    </tr>\n",
       "    <tr>\n",
       "      <th>Serbia</th>\n",
       "      <td>2</td>\n",
       "      <td>86</td>\n",
       "      <td>88</td>\n",
       "    </tr>\n",
       "    <tr>\n",
       "      <th>Slovenia</th>\n",
       "      <td>14</td>\n",
       "      <td>83</td>\n",
       "      <td>90</td>\n",
       "    </tr>\n",
       "    <tr>\n",
       "      <th>South Africa</th>\n",
       "      <td>284</td>\n",
       "      <td>81</td>\n",
       "      <td>92</td>\n",
       "    </tr>\n",
       "    <tr>\n",
       "      <th>South Korea</th>\n",
       "      <td>1</td>\n",
       "      <td>81</td>\n",
       "      <td>81</td>\n",
       "    </tr>\n",
       "    <tr>\n",
       "      <th>Spain</th>\n",
       "      <td>1035</td>\n",
       "      <td>80</td>\n",
       "      <td>97</td>\n",
       "    </tr>\n",
       "    <tr>\n",
       "      <th>Switzerland</th>\n",
       "      <td>1</td>\n",
       "      <td>86</td>\n",
       "      <td>86</td>\n",
       "    </tr>\n",
       "    <tr>\n",
       "      <th>Turkey</th>\n",
       "      <td>11</td>\n",
       "      <td>86</td>\n",
       "      <td>89</td>\n",
       "    </tr>\n",
       "    <tr>\n",
       "      <th>US</th>\n",
       "      <td>7786</td>\n",
       "      <td>80</td>\n",
       "      <td>100</td>\n",
       "    </tr>\n",
       "    <tr>\n",
       "      <th>US-France</th>\n",
       "      <td>1</td>\n",
       "      <td>88</td>\n",
       "      <td>88</td>\n",
       "    </tr>\n",
       "    <tr>\n",
       "      <th>Ukraine</th>\n",
       "      <td>1</td>\n",
       "      <td>86</td>\n",
       "      <td>86</td>\n",
       "    </tr>\n",
       "    <tr>\n",
       "      <th>Uruguay</th>\n",
       "      <td>9</td>\n",
       "      <td>82</td>\n",
       "      <td>88</td>\n",
       "    </tr>\n",
       "  </tbody>\n",
       "</table>\n",
       "</div>"
      ],
      "text/plain": [
       "                         len  min  max\n",
       "country                               \n",
       "Argentina                685   80   97\n",
       "Australia                597   80   98\n",
       "Austria                  401   82   96\n",
       "Bosnia and Herzegovina     1   88   88\n",
       "Brazil                     3   82   85\n",
       "Bulgaria                   9   80   89\n",
       "Canada                    24   82   92\n",
       "Chile                    744   80   93\n",
       "China                      1   82   82\n",
       "Croatia                   20   82   90\n",
       "Cyprus                     4   87   89\n",
       "France                  2601   80  100\n",
       "Georgia                    6   81   90\n",
       "Germany                  337   82   97\n",
       "Greece                   108   80   90\n",
       "Hungary                   33   80   96\n",
       "Israel                    80   81   92\n",
       "Italy                   2912   80  100\n",
       "Lebanon                    4   82   91\n",
       "Luxembourg                 1   86   86\n",
       "Mexico                    13   80   89\n",
       "Moldova                   14   81   88\n",
       "Montenegro                 1   82   82\n",
       "New Zealand              412   80   94\n",
       "Portugal                 705   81   99\n",
       "Romania                   18   80   87\n",
       "Serbia                     2   86   88\n",
       "Slovenia                  14   83   90\n",
       "South Africa             284   81   92\n",
       "South Korea                1   81   81\n",
       "Spain                   1035   80   97\n",
       "Switzerland                1   86   86\n",
       "Turkey                    11   86   89\n",
       "US                      7786   80  100\n",
       "US-France                  1   88   88\n",
       "Ukraine                    1   86   86\n",
       "Uruguay                    9   82   88"
      ]
     },
     "execution_count": 20,
     "metadata": {},
     "output_type": "execute_result"
    }
   ],
   "source": [
    "# Группируем баллы по странам, количество, min, max points:\n",
    "data_new.groupby(['country']).points.agg([len, min, max])"
   ]
  },
  {
   "cell_type": "code",
   "execution_count": 21,
   "metadata": {},
   "outputs": [
    {
     "name": "stdout",
     "output_type": "stream",
     "text": [
      "Считаем вина, какой страны наиболее популярны: \n",
      "\n",
      "US              7786\n",
      "Italy           2912\n",
      "France          2601\n",
      "Spain           1035\n",
      "Chile            744\n",
      "Portugal         705\n",
      "Argentina        685\n",
      "Australia        597\n",
      "New Zealand      412\n",
      "Austria          401\n",
      "Germany          337\n",
      "South Africa     284\n",
      "Greece           108\n",
      "Israel            80\n",
      "Hungary           33\n",
      "Canada            24\n",
      "Croatia           20\n",
      "Romania           18\n",
      "Slovenia          14\n",
      "Moldova           14\n",
      "Mexico            13\n",
      "Turkey            11\n",
      "Bulgaria           9\n",
      "Uruguay            9\n",
      "Georgia            6\n",
      "Name: country, dtype: int64\n"
     ]
    }
   ],
   "source": [
    "review_totals_by_country = data_new['country'].value_counts().head(25)\n",
    "print(\"Считаем вина, какой страны наиболее популярны: \\n\")\n",
    "print(review_totals_by_country)"
   ]
  },
  {
   "cell_type": "code",
   "execution_count": 22,
   "metadata": {},
   "outputs": [
    {
     "data": {
      "image/png": "[encoded data removed]",
      "text/plain": [
       "<Figure size 1008x432 with 1 Axes>"
      ]
     },
     "metadata": {
      "needs_background": "light"
     },
     "output_type": "display_data"
    }
   ],
   "source": [
    "# Строим график средней цены по странам \n",
    "fig, ax = plt.subplots(figsize=(14, 6))\n",
    "\n",
    "data_new['country'].value_counts().head(25)[:25].plot.bar()\n",
    "\n",
    "# Задаем название осей\n",
    "ax.set_xlabel('Country')\n",
    "ax.set_ylabel('Количество')\n",
    "ax.set_title('Вина, какой страны чаще всего покупались')\n",
    "fig.tight_layout()"
   ]
  },
  {
   "cell_type": "markdown",
   "metadata": {},
   "source": [
    "**Выводим график популярности вина в зависимости от страны и от цены**"
   ]
  },
  {
   "cell_type": "code",
   "execution_count": 23,
   "metadata": {},
   "outputs": [
    {
     "data": {
      "image/png": "[encoded data removed]",
      "text/plain": [
       "<Figure size 1008x432 with 1 Axes>"
      ]
     },
     "metadata": {
      "needs_background": "light"
     },
     "output_type": "display_data"
    }
   ],
   "source": [
    "# Строим график средней цены по странам \n",
    "fig, ax = plt.subplots(figsize=(14, 6))\n",
    "\n",
    "data_new.groupby(data_new['country'])['price'].mean().plot.bar()\n",
    "mean_price = data_new['price'].mean(0)\n",
    "data_new['price'].fillna(mean_price)\n",
    "\n",
    "# Задаем название осей\n",
    "ax.set_xlabel('Country')\n",
    "ax.set_ylabel('Mean Price')\n",
    "# Название графика\n",
    "ax.set_title('Mean Price per Country')\n",
    "ax.legend(bbox_to_anchor=(1, 1), loc=2, title='Price')\n",
    "\n",
    "fig.tight_layout()"
   ]
  },
  {
   "cell_type": "code",
   "execution_count": 24,
   "metadata": {},
   "outputs": [
    {
     "data": {
      "text/plain": [
       "0                  US - California\n",
       "1                  Italy - Tuscany\n",
       "2                France - Bordeaux\n",
       "3                  Italy - Tuscany\n",
       "4                      US - Oregon\n",
       "                   ...            \n",
       "18876    France - Southwest France\n",
       "18877              US - California\n",
       "18878    Italy - Sicily & Sardinia\n",
       "18879    Italy - Sicily & Sardinia\n",
       "18880              US - California\n",
       "Length: 18879, dtype: object"
      ]
     },
     "execution_count": 24,
     "metadata": {},
     "output_type": "execute_result"
    }
   ],
   "source": [
    "# Группируем страну и регион, где производится вино\n",
    "data_new.country + \" - \" + data_new.province"
   ]
  },
  {
   "cell_type": "code",
   "execution_count": 25,
   "metadata": {},
   "outputs": [
    {
     "data": {
      "text/plain": [
       "<AxesSubplot:>"
      ]
     },
     "execution_count": 25,
     "metadata": {},
     "output_type": "execute_result"
    },
    {
     "data": {
      "image/png": "[encoded data removed]",
      "text/plain": [
       "<Figure size 432x288 with 1 Axes>"
      ]
     },
     "metadata": {
      "needs_background": "light"
     },
     "output_type": "display_data"
    }
   ],
   "source": [
    "# Отображаем, какой провинции вино покупают чаще всего\n",
    "data_new['province'].value_counts().head(10).plot.bar()"
   ]
  }
 ],
 "metadata": {
  "kernelspec": {
   "display_name": "Python 3",
   "language": "python",
   "name": "python3"
  },
  "language_info": {
   "codemirror_mode": {
    "name": "ipython",
    "version": 3
   },
   "file_extension": ".py",
   "mimetype": "text/x-python",
   "name": "python",
   "nbconvert_exporter": "python",
   "pygments_lexer": "ipython3",
   "version": "3.8.5"
  }
 },
 "nbformat": 4,
 "nbformat_minor": 4
}
